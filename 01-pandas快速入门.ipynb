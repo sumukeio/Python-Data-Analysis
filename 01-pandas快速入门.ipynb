{
 "cells": [
  {
   "cell_type": "code",
   "execution_count": 10,
   "id": "8c078ea8-db74-4f13-ab62-d2de054bc0ab",
   "metadata": {
    "scrolled": true
   },
   "outputs": [],
   "source": [
    "import pandas as pd"
   ]
  },
  {
   "cell_type": "markdown",
   "id": "07edb74e-e491-48c2-9acd-4a272440fc32",
   "metadata": {},
   "source": [
    "# 加载csv和tsv数据"
   ]
  },
  {
   "cell_type": "code",
   "execution_count": 11,
   "id": "d1846130-94d5-4b71-8531-229d0cc319f6",
   "metadata": {},
   "outputs": [
    {
     "data": {
      "text/html": [
       "<div>\n",
       "<style scoped>\n",
       "    .dataframe tbody tr th:only-of-type {\n",
       "        vertical-align: middle;\n",
       "    }\n",
       "\n",
       "    .dataframe tbody tr th {\n",
       "        vertical-align: top;\n",
       "    }\n",
       "\n",
       "    .dataframe thead th {\n",
       "        text-align: right;\n",
       "    }\n",
       "</style>\n",
       "<table border=\"1\" class=\"dataframe\">\n",
       "  <thead>\n",
       "    <tr style=\"text-align: right;\">\n",
       "      <th></th>\n",
       "      <th>城市</th>\n",
       "      <th>行政区</th>\n",
       "      <th>观测站</th>\n",
       "      <th>气温(度)</th>\n",
       "      <th>相对湿度(%)</th>\n",
       "      <th>累积雨量(mm)</th>\n",
       "    </tr>\n",
       "  </thead>\n",
       "  <tbody>\n",
       "    <tr>\n",
       "      <th>0</th>\n",
       "      <td>新北市</td>\n",
       "      <td>烏來區</td>\n",
       "      <td>福山</td>\n",
       "      <td>13.7</td>\n",
       "      <td>92.0</td>\n",
       "      <td>0.0</td>\n",
       "    </tr>\n",
       "    <tr>\n",
       "      <th>1</th>\n",
       "      <td>臺南市</td>\n",
       "      <td>安平區</td>\n",
       "      <td>安平</td>\n",
       "      <td>23.5</td>\n",
       "      <td>70.0</td>\n",
       "      <td>0.0</td>\n",
       "    </tr>\n",
       "    <tr>\n",
       "      <th>2</th>\n",
       "      <td>臺東縣</td>\n",
       "      <td>東河鄉</td>\n",
       "      <td>七塊厝</td>\n",
       "      <td>19.6</td>\n",
       "      <td>86.0</td>\n",
       "      <td>0.0</td>\n",
       "    </tr>\n",
       "    <tr>\n",
       "      <th>3</th>\n",
       "      <td>新北市</td>\n",
       "      <td>貢寮區</td>\n",
       "      <td>福隆</td>\n",
       "      <td>14.2</td>\n",
       "      <td>96.0</td>\n",
       "      <td>-99.0</td>\n",
       "    </tr>\n",
       "    <tr>\n",
       "      <th>4</th>\n",
       "      <td>南投縣</td>\n",
       "      <td>仁愛鄉</td>\n",
       "      <td>小奇萊</td>\n",
       "      <td>8.3</td>\n",
       "      <td>57.0</td>\n",
       "      <td>0.0</td>\n",
       "    </tr>\n",
       "    <tr>\n",
       "      <th>...</th>\n",
       "      <td>...</td>\n",
       "      <td>...</td>\n",
       "      <td>...</td>\n",
       "      <td>...</td>\n",
       "      <td>...</td>\n",
       "      <td>...</td>\n",
       "    </tr>\n",
       "    <tr>\n",
       "      <th>479</th>\n",
       "      <td>新北市</td>\n",
       "      <td>板橋區</td>\n",
       "      <td>板橋</td>\n",
       "      <td>15.6</td>\n",
       "      <td>73.0</td>\n",
       "      <td>5.0</td>\n",
       "    </tr>\n",
       "    <tr>\n",
       "      <th>480</th>\n",
       "      <td>宜蘭縣</td>\n",
       "      <td>大同鄉</td>\n",
       "      <td>翠峰湖</td>\n",
       "      <td>7.8</td>\n",
       "      <td>100.0</td>\n",
       "      <td>0.0</td>\n",
       "    </tr>\n",
       "    <tr>\n",
       "      <th>481</th>\n",
       "      <td>花蓮縣</td>\n",
       "      <td>壽豐鄉</td>\n",
       "      <td>大坑</td>\n",
       "      <td>15.7</td>\n",
       "      <td>94.0</td>\n",
       "      <td>0.0</td>\n",
       "    </tr>\n",
       "    <tr>\n",
       "      <th>482</th>\n",
       "      <td>新竹縣</td>\n",
       "      <td>五峰鄉</td>\n",
       "      <td>雪霸</td>\n",
       "      <td>15.7</td>\n",
       "      <td>62.0</td>\n",
       "      <td>0.0</td>\n",
       "    </tr>\n",
       "    <tr>\n",
       "      <th>483</th>\n",
       "      <td>桃園市</td>\n",
       "      <td>大溪區</td>\n",
       "      <td>大溪</td>\n",
       "      <td>14.8</td>\n",
       "      <td>77.0</td>\n",
       "      <td>8.0</td>\n",
       "    </tr>\n",
       "  </tbody>\n",
       "</table>\n",
       "<p>484 rows × 6 columns</p>\n",
       "</div>"
      ],
      "text/plain": [
       "      城市  行政区  观测站  气温(度)  相对湿度(%)  累积雨量(mm)\n",
       "0    新北市  烏來區   福山   13.7     92.0       0.0\n",
       "1    臺南市  安平區   安平   23.5     70.0       0.0\n",
       "2    臺東縣  東河鄉  七塊厝   19.6     86.0       0.0\n",
       "3    新北市  貢寮區   福隆   14.2     96.0     -99.0\n",
       "4    南投縣  仁愛鄉  小奇萊    8.3     57.0       0.0\n",
       "..   ...  ...  ...    ...      ...       ...\n",
       "479  新北市  板橋區   板橋   15.6     73.0       5.0\n",
       "480  宜蘭縣  大同鄉  翠峰湖    7.8    100.0       0.0\n",
       "481  花蓮縣  壽豐鄉   大坑   15.7     94.0       0.0\n",
       "482  新竹縣  五峰鄉   雪霸   15.7     62.0       0.0\n",
       "483  桃園市  大溪區   大溪   14.8     77.0       8.0\n",
       "\n",
       "[484 rows x 6 columns]"
      ]
     },
     "execution_count": 11,
     "metadata": {},
     "output_type": "execute_result"
    }
   ],
   "source": [
    "weather = pd.read_csv('./data/weather.csv')\n",
    "weather"
   ]
  },
  {
   "cell_type": "code",
   "execution_count": 12,
   "id": "2cf09e45-9c3c-4cba-b005-f0038abd3f66",
   "metadata": {},
   "outputs": [
    {
     "data": {
      "text/plain": [
       "pandas.core.frame.DataFrame"
      ]
     },
     "execution_count": 12,
     "metadata": {},
     "output_type": "execute_result"
    }
   ],
   "source": [
    "type(weather)"
   ]
  },
  {
   "cell_type": "code",
   "execution_count": 14,
   "id": "ea29882d-199e-4498-9493-e21cc5cec23f",
   "metadata": {
    "scrolled": true
   },
   "outputs": [
    {
     "data": {
      "text/html": [
       "<div>\n",
       "<style scoped>\n",
       "    .dataframe tbody tr th:only-of-type {\n",
       "        vertical-align: middle;\n",
       "    }\n",
       "\n",
       "    .dataframe tbody tr th {\n",
       "        vertical-align: top;\n",
       "    }\n",
       "\n",
       "    .dataframe thead th {\n",
       "        text-align: right;\n",
       "    }\n",
       "</style>\n",
       "<table border=\"1\" class=\"dataframe\">\n",
       "  <thead>\n",
       "    <tr style=\"text-align: right;\">\n",
       "      <th></th>\n",
       "      <th>citizen</th>\n",
       "      <th>unit</th>\n",
       "      <th>geo\\time\\t2007 \\t2006 \\t2005 \\t2004 \\t2003 \\t2002 \\t2001 \\t2000 \\t1999 \\t1998 \\t1997 \\t1996 \\t1995 \\t1994 \\t1993 \\t1992 \\t1991 \\t1990 \\t1989 \\t1988 \\t1987 \\t1986 \\t1985</th>\n",
       "    </tr>\n",
       "  </thead>\n",
       "  <tbody>\n",
       "    <tr>\n",
       "      <th>0</th>\n",
       "      <td>AD</td>\n",
       "      <td>PER</td>\n",
       "      <td>AT\\t0 p\\t0 p\\t0 p\\t0 p\\t0 \\t0 \\t0 \\t0 \\t0 \\t0 ...</td>\n",
       "    </tr>\n",
       "    <tr>\n",
       "      <th>1</th>\n",
       "      <td>AD</td>\n",
       "      <td>PER</td>\n",
       "      <td>BE\\t0 p\\t0 p\\t0 p\\t0 p\\t0 \\t0 \\t: \\t: \\t0 \\t: ...</td>\n",
       "    </tr>\n",
       "    <tr>\n",
       "      <th>2</th>\n",
       "      <td>AD</td>\n",
       "      <td>PER</td>\n",
       "      <td>BG\\t0 p\\t0 p\\t0 p\\t0 p\\t0 \\t: \\t: \\t: \\t: \\t: ...</td>\n",
       "    </tr>\n",
       "    <tr>\n",
       "      <th>3</th>\n",
       "      <td>AD</td>\n",
       "      <td>PER</td>\n",
       "      <td>CY\\t0 p\\t0 p\\t0 p\\t0 p\\t0 \\t: \\t: \\t: \\t0 \\t: ...</td>\n",
       "    </tr>\n",
       "    <tr>\n",
       "      <th>4</th>\n",
       "      <td>AD</td>\n",
       "      <td>PER</td>\n",
       "      <td>CZ\\t0 p\\t0 p\\t0 p\\t0 p\\t0 \\t: \\t: \\t: \\t0 \\t: ...</td>\n",
       "    </tr>\n",
       "    <tr>\n",
       "      <th>...</th>\n",
       "      <td>...</td>\n",
       "      <td>...</td>\n",
       "      <td>...</td>\n",
       "    </tr>\n",
       "    <tr>\n",
       "      <th>6255</th>\n",
       "      <td>ZW</td>\n",
       "      <td>PER</td>\n",
       "      <td>RO\\t5 p\\t5 p\\t0 p\\t0 p\\t0 \\t0 \\t0 \\t0 \\t0 \\t0 ...</td>\n",
       "    </tr>\n",
       "    <tr>\n",
       "      <th>6256</th>\n",
       "      <td>ZW</td>\n",
       "      <td>PER</td>\n",
       "      <td>SE\\t15 p\\t15 p\\t10 p\\t5 p\\t15 \\t: \\t5 \\t0 \\t0 ...</td>\n",
       "    </tr>\n",
       "    <tr>\n",
       "      <th>6257</th>\n",
       "      <td>ZW</td>\n",
       "      <td>PER</td>\n",
       "      <td>SI\\t0 p\\t0 p\\t0 p\\t0 p\\t0 \\t: \\t0 \\t0 \\t0 \\t0 ...</td>\n",
       "    </tr>\n",
       "    <tr>\n",
       "      <th>6258</th>\n",
       "      <td>ZW</td>\n",
       "      <td>PER</td>\n",
       "      <td>SK\\t0 p\\t0 p\\t0 p\\t0 p\\t0 \\t: \\t0 \\t: \\t: \\t: ...</td>\n",
       "    </tr>\n",
       "    <tr>\n",
       "      <th>6259</th>\n",
       "      <td>ZW</td>\n",
       "      <td>PER</td>\n",
       "      <td>UK\\t2300 p\\t2145 r\\t1390 p\\t2520 p\\t4020 \\t869...</td>\n",
       "    </tr>\n",
       "  </tbody>\n",
       "</table>\n",
       "<p>6260 rows × 3 columns</p>\n",
       "</div>"
      ],
      "text/plain": [
       "     citizen unit  \\\n",
       "0         AD  PER   \n",
       "1         AD  PER   \n",
       "2         AD  PER   \n",
       "3         AD  PER   \n",
       "4         AD  PER   \n",
       "...      ...  ...   \n",
       "6255      ZW  PER   \n",
       "6256      ZW  PER   \n",
       "6257      ZW  PER   \n",
       "6258      ZW  PER   \n",
       "6259      ZW  PER   \n",
       "\n",
       "     geo\\time\\t2007 \\t2006 \\t2005 \\t2004 \\t2003 \\t2002 \\t2001 \\t2000 \\t1999 \\t1998 \\t1997 \\t1996 \\t1995 \\t1994 \\t1993 \\t1992 \\t1991 \\t1990 \\t1989 \\t1988 \\t1987 \\t1986 \\t1985   \n",
       "0     AT\\t0 p\\t0 p\\t0 p\\t0 p\\t0 \\t0 \\t0 \\t0 \\t0 \\t0 ...                                                                                                                         \n",
       "1     BE\\t0 p\\t0 p\\t0 p\\t0 p\\t0 \\t0 \\t: \\t: \\t0 \\t: ...                                                                                                                         \n",
       "2     BG\\t0 p\\t0 p\\t0 p\\t0 p\\t0 \\t: \\t: \\t: \\t: \\t: ...                                                                                                                         \n",
       "3     CY\\t0 p\\t0 p\\t0 p\\t0 p\\t0 \\t: \\t: \\t: \\t0 \\t: ...                                                                                                                         \n",
       "4     CZ\\t0 p\\t0 p\\t0 p\\t0 p\\t0 \\t: \\t: \\t: \\t0 \\t: ...                                                                                                                         \n",
       "...                                                 ...                                                                                                                         \n",
       "6255  RO\\t5 p\\t5 p\\t0 p\\t0 p\\t0 \\t0 \\t0 \\t0 \\t0 \\t0 ...                                                                                                                         \n",
       "6256  SE\\t15 p\\t15 p\\t10 p\\t5 p\\t15 \\t: \\t5 \\t0 \\t0 ...                                                                                                                         \n",
       "6257  SI\\t0 p\\t0 p\\t0 p\\t0 p\\t0 \\t: \\t0 \\t0 \\t0 \\t0 ...                                                                                                                         \n",
       "6258  SK\\t0 p\\t0 p\\t0 p\\t0 p\\t0 \\t: \\t0 \\t: \\t: \\t: ...                                                                                                                         \n",
       "6259  UK\\t2300 p\\t2145 r\\t1390 p\\t2520 p\\t4020 \\t869...                                                                                                                         \n",
       "\n",
       "[6260 rows x 3 columns]"
      ]
     },
     "execution_count": 14,
     "metadata": {},
     "output_type": "execute_result"
    }
   ],
   "source": [
    "test = pd.read_csv('./data/migr_asyctz.tsv')\n",
    "test"
   ]
  },
  {
   "cell_type": "code",
   "execution_count": 15,
   "id": "dce2d8b7-0822-411c-a6a0-e38f3900ff69",
   "metadata": {},
   "outputs": [
    {
     "data": {
      "text/plain": [
       "pandas.core.frame.DataFrame"
      ]
     },
     "execution_count": 15,
     "metadata": {},
     "output_type": "execute_result"
    }
   ],
   "source": [
    "type(test)"
   ]
  },
  {
   "cell_type": "markdown",
   "id": "676210b3-f71c-4416-9d44-51710246f99d",
   "metadata": {},
   "source": [
    "# dataframe的行标签和列标签"
   ]
  },
  {
   "cell_type": "code",
   "execution_count": 16,
   "id": "dd05ad1a-a908-4c00-8ee6-c1e41554f2b8",
   "metadata": {},
   "outputs": [
    {
     "data": {
      "text/plain": [
       "RangeIndex(start=0, stop=484, step=1)"
      ]
     },
     "execution_count": 16,
     "metadata": {},
     "output_type": "execute_result"
    }
   ],
   "source": [
    "weather.index"
   ]
  },
  {
   "cell_type": "code",
   "execution_count": 17,
   "id": "8f40f660-cc75-4c40-8a2e-5bc6ae3c2734",
   "metadata": {},
   "outputs": [
    {
     "data": {
      "text/plain": [
       "Index(['城市', '行政区', '观测站', '气温(度)', '相对湿度(%)', '累积雨量(mm)'], dtype='object')"
      ]
     },
     "execution_count": 17,
     "metadata": {},
     "output_type": "execute_result"
    }
   ],
   "source": [
    "weather.columns"
   ]
  },
  {
   "cell_type": "code",
   "execution_count": 18,
   "id": "51427894-ffa2-4567-875a-6193c3a3fd20",
   "metadata": {},
   "outputs": [
    {
     "data": {
      "text/html": [
       "<div>\n",
       "<style scoped>\n",
       "    .dataframe tbody tr th:only-of-type {\n",
       "        vertical-align: middle;\n",
       "    }\n",
       "\n",
       "    .dataframe tbody tr th {\n",
       "        vertical-align: top;\n",
       "    }\n",
       "\n",
       "    .dataframe thead th {\n",
       "        text-align: right;\n",
       "    }\n",
       "</style>\n",
       "<table border=\"1\" class=\"dataframe\">\n",
       "  <thead>\n",
       "    <tr style=\"text-align: right;\">\n",
       "      <th></th>\n",
       "      <th>行政区</th>\n",
       "      <th>观测站</th>\n",
       "      <th>气温(度)</th>\n",
       "      <th>相对湿度(%)</th>\n",
       "      <th>累积雨量(mm)</th>\n",
       "    </tr>\n",
       "    <tr>\n",
       "      <th>城市</th>\n",
       "      <th></th>\n",
       "      <th></th>\n",
       "      <th></th>\n",
       "      <th></th>\n",
       "      <th></th>\n",
       "    </tr>\n",
       "  </thead>\n",
       "  <tbody>\n",
       "    <tr>\n",
       "      <th>新北市</th>\n",
       "      <td>烏來區</td>\n",
       "      <td>福山</td>\n",
       "      <td>13.7</td>\n",
       "      <td>92.0</td>\n",
       "      <td>0.0</td>\n",
       "    </tr>\n",
       "    <tr>\n",
       "      <th>臺南市</th>\n",
       "      <td>安平區</td>\n",
       "      <td>安平</td>\n",
       "      <td>23.5</td>\n",
       "      <td>70.0</td>\n",
       "      <td>0.0</td>\n",
       "    </tr>\n",
       "    <tr>\n",
       "      <th>臺東縣</th>\n",
       "      <td>東河鄉</td>\n",
       "      <td>七塊厝</td>\n",
       "      <td>19.6</td>\n",
       "      <td>86.0</td>\n",
       "      <td>0.0</td>\n",
       "    </tr>\n",
       "    <tr>\n",
       "      <th>新北市</th>\n",
       "      <td>貢寮區</td>\n",
       "      <td>福隆</td>\n",
       "      <td>14.2</td>\n",
       "      <td>96.0</td>\n",
       "      <td>-99.0</td>\n",
       "    </tr>\n",
       "    <tr>\n",
       "      <th>南投縣</th>\n",
       "      <td>仁愛鄉</td>\n",
       "      <td>小奇萊</td>\n",
       "      <td>8.3</td>\n",
       "      <td>57.0</td>\n",
       "      <td>0.0</td>\n",
       "    </tr>\n",
       "    <tr>\n",
       "      <th>...</th>\n",
       "      <td>...</td>\n",
       "      <td>...</td>\n",
       "      <td>...</td>\n",
       "      <td>...</td>\n",
       "      <td>...</td>\n",
       "    </tr>\n",
       "    <tr>\n",
       "      <th>新北市</th>\n",
       "      <td>板橋區</td>\n",
       "      <td>板橋</td>\n",
       "      <td>15.6</td>\n",
       "      <td>73.0</td>\n",
       "      <td>5.0</td>\n",
       "    </tr>\n",
       "    <tr>\n",
       "      <th>宜蘭縣</th>\n",
       "      <td>大同鄉</td>\n",
       "      <td>翠峰湖</td>\n",
       "      <td>7.8</td>\n",
       "      <td>100.0</td>\n",
       "      <td>0.0</td>\n",
       "    </tr>\n",
       "    <tr>\n",
       "      <th>花蓮縣</th>\n",
       "      <td>壽豐鄉</td>\n",
       "      <td>大坑</td>\n",
       "      <td>15.7</td>\n",
       "      <td>94.0</td>\n",
       "      <td>0.0</td>\n",
       "    </tr>\n",
       "    <tr>\n",
       "      <th>新竹縣</th>\n",
       "      <td>五峰鄉</td>\n",
       "      <td>雪霸</td>\n",
       "      <td>15.7</td>\n",
       "      <td>62.0</td>\n",
       "      <td>0.0</td>\n",
       "    </tr>\n",
       "    <tr>\n",
       "      <th>桃園市</th>\n",
       "      <td>大溪區</td>\n",
       "      <td>大溪</td>\n",
       "      <td>14.8</td>\n",
       "      <td>77.0</td>\n",
       "      <td>8.0</td>\n",
       "    </tr>\n",
       "  </tbody>\n",
       "</table>\n",
       "<p>484 rows × 5 columns</p>\n",
       "</div>"
      ],
      "text/plain": [
       "     行政区  观测站  气温(度)  相对湿度(%)  累积雨量(mm)\n",
       "城市                                     \n",
       "新北市  烏來區   福山   13.7     92.0       0.0\n",
       "臺南市  安平區   安平   23.5     70.0       0.0\n",
       "臺東縣  東河鄉  七塊厝   19.6     86.0       0.0\n",
       "新北市  貢寮區   福隆   14.2     96.0     -99.0\n",
       "南投縣  仁愛鄉  小奇萊    8.3     57.0       0.0\n",
       "..   ...  ...    ...      ...       ...\n",
       "新北市  板橋區   板橋   15.6     73.0       5.0\n",
       "宜蘭縣  大同鄉  翠峰湖    7.8    100.0       0.0\n",
       "花蓮縣  壽豐鄉   大坑   15.7     94.0       0.0\n",
       "新竹縣  五峰鄉   雪霸   15.7     62.0       0.0\n",
       "桃園市  大溪區   大溪   14.8     77.0       8.0\n",
       "\n",
       "[484 rows x 5 columns]"
      ]
     },
     "execution_count": 18,
     "metadata": {},
     "output_type": "execute_result"
    }
   ],
   "source": [
    "weather_df = weather.set_index('城市')\n",
    "weather_df"
   ]
  },
  {
   "cell_type": "code",
   "execution_count": 19,
   "id": "90243ccd-9a5c-4b8f-85d9-257599c667e8",
   "metadata": {},
   "outputs": [
    {
     "data": {
      "text/html": [
       "<div>\n",
       "<style scoped>\n",
       "    .dataframe tbody tr th:only-of-type {\n",
       "        vertical-align: middle;\n",
       "    }\n",
       "\n",
       "    .dataframe tbody tr th {\n",
       "        vertical-align: top;\n",
       "    }\n",
       "\n",
       "    .dataframe thead th {\n",
       "        text-align: right;\n",
       "    }\n",
       "</style>\n",
       "<table border=\"1\" class=\"dataframe\">\n",
       "  <thead>\n",
       "    <tr style=\"text-align: right;\">\n",
       "      <th></th>\n",
       "      <th>城市</th>\n",
       "      <th>行政区</th>\n",
       "      <th>观测站</th>\n",
       "      <th>气温(度)</th>\n",
       "      <th>相对湿度(%)</th>\n",
       "      <th>累积雨量(mm)</th>\n",
       "    </tr>\n",
       "  </thead>\n",
       "  <tbody>\n",
       "    <tr>\n",
       "      <th>0</th>\n",
       "      <td>新北市</td>\n",
       "      <td>烏來區</td>\n",
       "      <td>福山</td>\n",
       "      <td>13.7</td>\n",
       "      <td>92.0</td>\n",
       "      <td>0.0</td>\n",
       "    </tr>\n",
       "    <tr>\n",
       "      <th>1</th>\n",
       "      <td>臺南市</td>\n",
       "      <td>安平區</td>\n",
       "      <td>安平</td>\n",
       "      <td>23.5</td>\n",
       "      <td>70.0</td>\n",
       "      <td>0.0</td>\n",
       "    </tr>\n",
       "    <tr>\n",
       "      <th>2</th>\n",
       "      <td>臺東縣</td>\n",
       "      <td>東河鄉</td>\n",
       "      <td>七塊厝</td>\n",
       "      <td>19.6</td>\n",
       "      <td>86.0</td>\n",
       "      <td>0.0</td>\n",
       "    </tr>\n",
       "    <tr>\n",
       "      <th>3</th>\n",
       "      <td>新北市</td>\n",
       "      <td>貢寮區</td>\n",
       "      <td>福隆</td>\n",
       "      <td>14.2</td>\n",
       "      <td>96.0</td>\n",
       "      <td>-99.0</td>\n",
       "    </tr>\n",
       "    <tr>\n",
       "      <th>4</th>\n",
       "      <td>南投縣</td>\n",
       "      <td>仁愛鄉</td>\n",
       "      <td>小奇萊</td>\n",
       "      <td>8.3</td>\n",
       "      <td>57.0</td>\n",
       "      <td>0.0</td>\n",
       "    </tr>\n",
       "    <tr>\n",
       "      <th>...</th>\n",
       "      <td>...</td>\n",
       "      <td>...</td>\n",
       "      <td>...</td>\n",
       "      <td>...</td>\n",
       "      <td>...</td>\n",
       "      <td>...</td>\n",
       "    </tr>\n",
       "    <tr>\n",
       "      <th>479</th>\n",
       "      <td>新北市</td>\n",
       "      <td>板橋區</td>\n",
       "      <td>板橋</td>\n",
       "      <td>15.6</td>\n",
       "      <td>73.0</td>\n",
       "      <td>5.0</td>\n",
       "    </tr>\n",
       "    <tr>\n",
       "      <th>480</th>\n",
       "      <td>宜蘭縣</td>\n",
       "      <td>大同鄉</td>\n",
       "      <td>翠峰湖</td>\n",
       "      <td>7.8</td>\n",
       "      <td>100.0</td>\n",
       "      <td>0.0</td>\n",
       "    </tr>\n",
       "    <tr>\n",
       "      <th>481</th>\n",
       "      <td>花蓮縣</td>\n",
       "      <td>壽豐鄉</td>\n",
       "      <td>大坑</td>\n",
       "      <td>15.7</td>\n",
       "      <td>94.0</td>\n",
       "      <td>0.0</td>\n",
       "    </tr>\n",
       "    <tr>\n",
       "      <th>482</th>\n",
       "      <td>新竹縣</td>\n",
       "      <td>五峰鄉</td>\n",
       "      <td>雪霸</td>\n",
       "      <td>15.7</td>\n",
       "      <td>62.0</td>\n",
       "      <td>0.0</td>\n",
       "    </tr>\n",
       "    <tr>\n",
       "      <th>483</th>\n",
       "      <td>桃園市</td>\n",
       "      <td>大溪區</td>\n",
       "      <td>大溪</td>\n",
       "      <td>14.8</td>\n",
       "      <td>77.0</td>\n",
       "      <td>8.0</td>\n",
       "    </tr>\n",
       "  </tbody>\n",
       "</table>\n",
       "<p>484 rows × 6 columns</p>\n",
       "</div>"
      ],
      "text/plain": [
       "      城市  行政区  观测站  气温(度)  相对湿度(%)  累积雨量(mm)\n",
       "0    新北市  烏來區   福山   13.7     92.0       0.0\n",
       "1    臺南市  安平區   安平   23.5     70.0       0.0\n",
       "2    臺東縣  東河鄉  七塊厝   19.6     86.0       0.0\n",
       "3    新北市  貢寮區   福隆   14.2     96.0     -99.0\n",
       "4    南投縣  仁愛鄉  小奇萊    8.3     57.0       0.0\n",
       "..   ...  ...  ...    ...      ...       ...\n",
       "479  新北市  板橋區   板橋   15.6     73.0       5.0\n",
       "480  宜蘭縣  大同鄉  翠峰湖    7.8    100.0       0.0\n",
       "481  花蓮縣  壽豐鄉   大坑   15.7     94.0       0.0\n",
       "482  新竹縣  五峰鄉   雪霸   15.7     62.0       0.0\n",
       "483  桃園市  大溪區   大溪   14.8     77.0       8.0\n",
       "\n",
       "[484 rows x 6 columns]"
      ]
     },
     "execution_count": 19,
     "metadata": {},
     "output_type": "execute_result"
    }
   ],
   "source": [
    "weather"
   ]
  },
  {
   "cell_type": "markdown",
   "id": "4b730886-c250-499b-b88c-9761523e7c22",
   "metadata": {},
   "source": [
    "# loc获取指定行标签 列标签的内容"
   ]
  },
  {
   "cell_type": "code",
   "execution_count": 22,
   "id": "1b9ac28b-82db-4c30-a911-261db4495bf2",
   "metadata": {},
   "outputs": [
    {
     "data": {
      "text/html": [
       "<div>\n",
       "<style scoped>\n",
       "    .dataframe tbody tr th:only-of-type {\n",
       "        vertical-align: middle;\n",
       "    }\n",
       "\n",
       "    .dataframe tbody tr th {\n",
       "        vertical-align: top;\n",
       "    }\n",
       "\n",
       "    .dataframe thead th {\n",
       "        text-align: right;\n",
       "    }\n",
       "</style>\n",
       "<table border=\"1\" class=\"dataframe\">\n",
       "  <thead>\n",
       "    <tr style=\"text-align: right;\">\n",
       "      <th></th>\n",
       "      <th>城市</th>\n",
       "      <th>行政区</th>\n",
       "      <th>观测站</th>\n",
       "    </tr>\n",
       "  </thead>\n",
       "  <tbody>\n",
       "    <tr>\n",
       "      <th>52</th>\n",
       "      <td>南投縣</td>\n",
       "      <td>仁愛鄉</td>\n",
       "      <td>奇萊稜線A</td>\n",
       "    </tr>\n",
       "    <tr>\n",
       "      <th>62</th>\n",
       "      <td>宜蘭縣</td>\n",
       "      <td>壯圍鄉</td>\n",
       "      <td>壯圍</td>\n",
       "    </tr>\n",
       "    <tr>\n",
       "      <th>72</th>\n",
       "      <td>花蓮縣</td>\n",
       "      <td>豐濱鄉</td>\n",
       "      <td>靜浦</td>\n",
       "    </tr>\n",
       "  </tbody>\n",
       "</table>\n",
       "</div>"
      ],
      "text/plain": [
       "     城市  行政区    观测站\n",
       "52  南投縣  仁愛鄉  奇萊稜線A\n",
       "62  宜蘭縣  壯圍鄉     壯圍\n",
       "72  花蓮縣  豐濱鄉     靜浦"
      ]
     },
     "execution_count": 22,
     "metadata": {},
     "output_type": "execute_result"
    }
   ],
   "source": [
    "weather.loc[[52, 62, 72], ['城市', '行政区', '观测站']]"
   ]
  },
  {
   "cell_type": "code",
   "execution_count": 24,
   "id": "94f5b3b6-6def-4160-b25b-a29ecf16517b",
   "metadata": {},
   "outputs": [
    {
     "data": {
      "text/html": [
       "<div>\n",
       "<style scoped>\n",
       "    .dataframe tbody tr th:only-of-type {\n",
       "        vertical-align: middle;\n",
       "    }\n",
       "\n",
       "    .dataframe tbody tr th {\n",
       "        vertical-align: top;\n",
       "    }\n",
       "\n",
       "    .dataframe thead th {\n",
       "        text-align: right;\n",
       "    }\n",
       "</style>\n",
       "<table border=\"1\" class=\"dataframe\">\n",
       "  <thead>\n",
       "    <tr style=\"text-align: right;\">\n",
       "      <th></th>\n",
       "      <th>城市</th>\n",
       "      <th>行政区</th>\n",
       "      <th>观测站</th>\n",
       "      <th>气温(度)</th>\n",
       "      <th>相对湿度(%)</th>\n",
       "      <th>累积雨量(mm)</th>\n",
       "    </tr>\n",
       "  </thead>\n",
       "  <tbody>\n",
       "    <tr>\n",
       "      <th>52</th>\n",
       "      <td>南投縣</td>\n",
       "      <td>仁愛鄉</td>\n",
       "      <td>奇萊稜線A</td>\n",
       "      <td>-99.0</td>\n",
       "      <td>-9900.0</td>\n",
       "      <td>0.0</td>\n",
       "    </tr>\n",
       "    <tr>\n",
       "      <th>62</th>\n",
       "      <td>宜蘭縣</td>\n",
       "      <td>壯圍鄉</td>\n",
       "      <td>壯圍</td>\n",
       "      <td>16.3</td>\n",
       "      <td>79.0</td>\n",
       "      <td>0.0</td>\n",
       "    </tr>\n",
       "    <tr>\n",
       "      <th>72</th>\n",
       "      <td>花蓮縣</td>\n",
       "      <td>豐濱鄉</td>\n",
       "      <td>靜浦</td>\n",
       "      <td>18.1</td>\n",
       "      <td>95.0</td>\n",
       "      <td>2.5</td>\n",
       "    </tr>\n",
       "  </tbody>\n",
       "</table>\n",
       "</div>"
      ],
      "text/plain": [
       "     城市  行政区    观测站  气温(度)  相对湿度(%)  累积雨量(mm)\n",
       "52  南投縣  仁愛鄉  奇萊稜線A  -99.0  -9900.0       0.0\n",
       "62  宜蘭縣  壯圍鄉     壯圍   16.3     79.0       0.0\n",
       "72  花蓮縣  豐濱鄉     靜浦   18.1     95.0       2.5"
      ]
     },
     "execution_count": 24,
     "metadata": {},
     "output_type": "execute_result"
    }
   ],
   "source": [
    "weather.loc[[52, 62, 72]]"
   ]
  },
  {
   "cell_type": "code",
   "execution_count": 28,
   "id": "2ff6149b-3179-4911-9b7d-5f1550ef3b8d",
   "metadata": {},
   "outputs": [
    {
     "data": {
      "text/html": [
       "<div>\n",
       "<style scoped>\n",
       "    .dataframe tbody tr th:only-of-type {\n",
       "        vertical-align: middle;\n",
       "    }\n",
       "\n",
       "    .dataframe tbody tr th {\n",
       "        vertical-align: top;\n",
       "    }\n",
       "\n",
       "    .dataframe thead th {\n",
       "        text-align: right;\n",
       "    }\n",
       "</style>\n",
       "<table border=\"1\" class=\"dataframe\">\n",
       "  <thead>\n",
       "    <tr style=\"text-align: right;\">\n",
       "      <th></th>\n",
       "      <th>城市</th>\n",
       "      <th>行政区</th>\n",
       "      <th>观测站</th>\n",
       "    </tr>\n",
       "  </thead>\n",
       "  <tbody>\n",
       "    <tr>\n",
       "      <th>0</th>\n",
       "      <td>新北市</td>\n",
       "      <td>烏來區</td>\n",
       "      <td>福山</td>\n",
       "    </tr>\n",
       "    <tr>\n",
       "      <th>1</th>\n",
       "      <td>臺南市</td>\n",
       "      <td>安平區</td>\n",
       "      <td>安平</td>\n",
       "    </tr>\n",
       "    <tr>\n",
       "      <th>2</th>\n",
       "      <td>臺東縣</td>\n",
       "      <td>東河鄉</td>\n",
       "      <td>七塊厝</td>\n",
       "    </tr>\n",
       "    <tr>\n",
       "      <th>3</th>\n",
       "      <td>新北市</td>\n",
       "      <td>貢寮區</td>\n",
       "      <td>福隆</td>\n",
       "    </tr>\n",
       "    <tr>\n",
       "      <th>4</th>\n",
       "      <td>南投縣</td>\n",
       "      <td>仁愛鄉</td>\n",
       "      <td>小奇萊</td>\n",
       "    </tr>\n",
       "    <tr>\n",
       "      <th>...</th>\n",
       "      <td>...</td>\n",
       "      <td>...</td>\n",
       "      <td>...</td>\n",
       "    </tr>\n",
       "    <tr>\n",
       "      <th>479</th>\n",
       "      <td>新北市</td>\n",
       "      <td>板橋區</td>\n",
       "      <td>板橋</td>\n",
       "    </tr>\n",
       "    <tr>\n",
       "      <th>480</th>\n",
       "      <td>宜蘭縣</td>\n",
       "      <td>大同鄉</td>\n",
       "      <td>翠峰湖</td>\n",
       "    </tr>\n",
       "    <tr>\n",
       "      <th>481</th>\n",
       "      <td>花蓮縣</td>\n",
       "      <td>壽豐鄉</td>\n",
       "      <td>大坑</td>\n",
       "    </tr>\n",
       "    <tr>\n",
       "      <th>482</th>\n",
       "      <td>新竹縣</td>\n",
       "      <td>五峰鄉</td>\n",
       "      <td>雪霸</td>\n",
       "    </tr>\n",
       "    <tr>\n",
       "      <th>483</th>\n",
       "      <td>桃園市</td>\n",
       "      <td>大溪區</td>\n",
       "      <td>大溪</td>\n",
       "    </tr>\n",
       "  </tbody>\n",
       "</table>\n",
       "<p>484 rows × 3 columns</p>\n",
       "</div>"
      ],
      "text/plain": [
       "      城市  行政区  观测站\n",
       "0    新北市  烏來區   福山\n",
       "1    臺南市  安平區   安平\n",
       "2    臺東縣  東河鄉  七塊厝\n",
       "3    新北市  貢寮區   福隆\n",
       "4    南投縣  仁愛鄉  小奇萊\n",
       "..   ...  ...  ...\n",
       "479  新北市  板橋區   板橋\n",
       "480  宜蘭縣  大同鄉  翠峰湖\n",
       "481  花蓮縣  壽豐鄉   大坑\n",
       "482  新竹縣  五峰鄉   雪霸\n",
       "483  桃園市  大溪區   大溪\n",
       "\n",
       "[484 rows x 3 columns]"
      ]
     },
     "execution_count": 28,
     "metadata": {},
     "output_type": "execute_result"
    }
   ],
   "source": [
    "# 获取所有行的城市、行政区、观测站列的数据\n",
    "weather.loc[:,['城市', '行政区', '观测站']]"
   ]
  },
  {
   "cell_type": "code",
   "execution_count": 33,
   "id": "dad51af9-71e8-483f-a2a5-039599eedcfe",
   "metadata": {},
   "outputs": [
    {
     "data": {
      "text/html": [
       "<div>\n",
       "<style scoped>\n",
       "    .dataframe tbody tr th:only-of-type {\n",
       "        vertical-align: middle;\n",
       "    }\n",
       "\n",
       "    .dataframe tbody tr th {\n",
       "        vertical-align: top;\n",
       "    }\n",
       "\n",
       "    .dataframe thead th {\n",
       "        text-align: right;\n",
       "    }\n",
       "</style>\n",
       "<table border=\"1\" class=\"dataframe\">\n",
       "  <thead>\n",
       "    <tr style=\"text-align: right;\">\n",
       "      <th></th>\n",
       "      <th>城市</th>\n",
       "      <th>行政区</th>\n",
       "      <th>观测站</th>\n",
       "      <th>气温(度)</th>\n",
       "      <th>相对湿度(%)</th>\n",
       "      <th>累积雨量(mm)</th>\n",
       "    </tr>\n",
       "  </thead>\n",
       "  <tbody>\n",
       "    <tr>\n",
       "      <th>57</th>\n",
       "      <td>臺南市</td>\n",
       "      <td>將軍區</td>\n",
       "      <td>將軍</td>\n",
       "      <td>21.4</td>\n",
       "      <td>73.0</td>\n",
       "      <td>0.0</td>\n",
       "    </tr>\n",
       "  </tbody>\n",
       "</table>\n",
       "</div>"
      ],
      "text/plain": [
       "     城市  行政区 观测站  气温(度)  相对湿度(%)  累积雨量(mm)\n",
       "57  臺南市  將軍區  將軍   21.4     73.0       0.0"
      ]
     },
     "execution_count": 33,
     "metadata": {},
     "output_type": "execute_result"
    }
   ],
   "source": [
    "weather.loc[[57]]"
   ]
  },
  {
   "cell_type": "code",
   "execution_count": 34,
   "id": "31bcdd59-4270-4c2e-a681-423eac111cc9",
   "metadata": {},
   "outputs": [
    {
     "data": {
      "text/plain": [
       "pandas.core.frame.DataFrame"
      ]
     },
     "execution_count": 34,
     "metadata": {},
     "output_type": "execute_result"
    }
   ],
   "source": [
    "type(weather.loc[[57]])"
   ]
  },
  {
   "cell_type": "code",
   "execution_count": 35,
   "id": "5998c2b1-10e2-416f-8c69-5b6d8252d4e0",
   "metadata": {},
   "outputs": [
    {
     "data": {
      "text/plain": [
       "城市           臺南市\n",
       "行政区          將軍區\n",
       "观测站           將軍\n",
       "气温(度)       21.4\n",
       "相对湿度(%)       73\n",
       "累积雨量(mm)       0\n",
       "Name: 57, dtype: object"
      ]
     },
     "execution_count": 35,
     "metadata": {},
     "output_type": "execute_result"
    }
   ],
   "source": [
    "weather.loc[57]"
   ]
  },
  {
   "cell_type": "code",
   "execution_count": 36,
   "id": "3cdf8013-f3da-4bee-b360-dacbcd6d8f3e",
   "metadata": {},
   "outputs": [
    {
     "data": {
      "text/plain": [
       "pandas.core.series.Series"
      ]
     },
     "execution_count": 36,
     "metadata": {},
     "output_type": "execute_result"
    }
   ],
   "source": [
    "type(weather.loc[57])"
   ]
  },
  {
   "cell_type": "code",
   "execution_count": 39,
   "id": "54587584-0a11-47b0-bce7-acd5bf00da97",
   "metadata": {},
   "outputs": [
    {
     "data": {
      "text/html": [
       "<div>\n",
       "<style scoped>\n",
       "    .dataframe tbody tr th:only-of-type {\n",
       "        vertical-align: middle;\n",
       "    }\n",
       "\n",
       "    .dataframe tbody tr th {\n",
       "        vertical-align: top;\n",
       "    }\n",
       "\n",
       "    .dataframe thead th {\n",
       "        text-align: right;\n",
       "    }\n",
       "</style>\n",
       "<table border=\"1\" class=\"dataframe\">\n",
       "  <thead>\n",
       "    <tr style=\"text-align: right;\">\n",
       "      <th></th>\n",
       "      <th>气温(度)</th>\n",
       "    </tr>\n",
       "  </thead>\n",
       "  <tbody>\n",
       "    <tr>\n",
       "      <th>57</th>\n",
       "      <td>21.4</td>\n",
       "    </tr>\n",
       "  </tbody>\n",
       "</table>\n",
       "</div>"
      ],
      "text/plain": [
       "    气温(度)\n",
       "57   21.4"
      ]
     },
     "execution_count": 39,
     "metadata": {},
     "output_type": "execute_result"
    }
   ],
   "source": [
    "weather.loc[[57],['气温(度)']]"
   ]
  },
  {
   "cell_type": "code",
   "execution_count": 40,
   "id": "8e15822a-32b1-4585-9210-46f1638c3c38",
   "metadata": {},
   "outputs": [
    {
     "data": {
      "text/plain": [
       "pandas.core.frame.DataFrame"
      ]
     },
     "execution_count": 40,
     "metadata": {},
     "output_type": "execute_result"
    }
   ],
   "source": [
    "type(weather.loc[[57],['气温(度)']])"
   ]
  },
  {
   "cell_type": "code",
   "execution_count": 41,
   "id": "bc8a889e-ac40-45c7-872e-996da2c1edb7",
   "metadata": {},
   "outputs": [
    {
     "data": {
      "text/plain": [
       "气温(度)    21.4\n",
       "Name: 57, dtype: object"
      ]
     },
     "execution_count": 41,
     "metadata": {},
     "output_type": "execute_result"
    }
   ],
   "source": [
    "weather.loc[57,['气温(度)']]"
   ]
  },
  {
   "cell_type": "code",
   "execution_count": 42,
   "id": "22ed2563-5f3e-4382-8c3f-53fe457c3dea",
   "metadata": {},
   "outputs": [
    {
     "data": {
      "text/plain": [
       "pandas.core.series.Series"
      ]
     },
     "execution_count": 42,
     "metadata": {},
     "output_type": "execute_result"
    }
   ],
   "source": [
    "type(weather.loc[57,['气温(度)']])"
   ]
  },
  {
   "cell_type": "code",
   "execution_count": 45,
   "id": "abf25502-f23b-4c1f-98ee-1e53fcd1e8ef",
   "metadata": {},
   "outputs": [
    {
     "data": {
      "text/plain": [
       "57    21.4\n",
       "Name: 气温(度), dtype: float64"
      ]
     },
     "execution_count": 45,
     "metadata": {},
     "output_type": "execute_result"
    }
   ],
   "source": [
    "weather.loc[[57],'气温(度)']"
   ]
  },
  {
   "cell_type": "code",
   "execution_count": 46,
   "id": "a5be905f-e1a1-49d9-a26f-a4a905be439b",
   "metadata": {},
   "outputs": [
    {
     "data": {
      "text/plain": [
       "pandas.core.series.Series"
      ]
     },
     "execution_count": 46,
     "metadata": {},
     "output_type": "execute_result"
    }
   ],
   "source": [
    "type(weather.loc[[57],'气温(度)'])"
   ]
  },
  {
   "cell_type": "code",
   "execution_count": 47,
   "id": "fbd03c1c-7b1c-44e0-8648-2f8059a9786c",
   "metadata": {},
   "outputs": [
    {
     "data": {
      "text/plain": [
       "21.4"
      ]
     },
     "execution_count": 47,
     "metadata": {},
     "output_type": "execute_result"
    }
   ],
   "source": [
    "weather.loc[57, '气温(度)']"
   ]
  },
  {
   "cell_type": "code",
   "execution_count": 48,
   "id": "7d26f38b-7ca4-4898-8143-29184975b93f",
   "metadata": {},
   "outputs": [
    {
     "data": {
      "text/plain": [
       "numpy.float64"
      ]
     },
     "execution_count": 48,
     "metadata": {},
     "output_type": "execute_result"
    }
   ],
   "source": [
    "type(weather.loc[57, '气温(度)'])"
   ]
  },
  {
   "cell_type": "markdown",
   "id": "8dfb8bcd-94b0-443c-88d6-5703fbe0afd2",
   "metadata": {},
   "source": [
    "# iloc获取指定行位置、列位置的内容"
   ]
  },
  {
   "cell_type": "code",
   "execution_count": 49,
   "id": "df75166c-1b80-41f2-afc3-ca5a4f6392f3",
   "metadata": {},
   "outputs": [
    {
     "data": {
      "text/html": [
       "<div>\n",
       "<style scoped>\n",
       "    .dataframe tbody tr th:only-of-type {\n",
       "        vertical-align: middle;\n",
       "    }\n",
       "\n",
       "    .dataframe tbody tr th {\n",
       "        vertical-align: top;\n",
       "    }\n",
       "\n",
       "    .dataframe thead th {\n",
       "        text-align: right;\n",
       "    }\n",
       "</style>\n",
       "<table border=\"1\" class=\"dataframe\">\n",
       "  <thead>\n",
       "    <tr style=\"text-align: right;\">\n",
       "      <th></th>\n",
       "      <th>城市</th>\n",
       "      <th>行政区</th>\n",
       "      <th>观测站</th>\n",
       "    </tr>\n",
       "  </thead>\n",
       "  <tbody>\n",
       "    <tr>\n",
       "      <th>0</th>\n",
       "      <td>新北市</td>\n",
       "      <td>烏來區</td>\n",
       "      <td>福山</td>\n",
       "    </tr>\n",
       "    <tr>\n",
       "      <th>2</th>\n",
       "      <td>臺東縣</td>\n",
       "      <td>東河鄉</td>\n",
       "      <td>七塊厝</td>\n",
       "    </tr>\n",
       "    <tr>\n",
       "      <th>4</th>\n",
       "      <td>南投縣</td>\n",
       "      <td>仁愛鄉</td>\n",
       "      <td>小奇萊</td>\n",
       "    </tr>\n",
       "  </tbody>\n",
       "</table>\n",
       "</div>"
      ],
      "text/plain": [
       "    城市  行政区  观测站\n",
       "0  新北市  烏來區   福山\n",
       "2  臺東縣  東河鄉  七塊厝\n",
       "4  南投縣  仁愛鄉  小奇萊"
      ]
     },
     "execution_count": 49,
     "metadata": {},
     "output_type": "execute_result"
    }
   ],
   "source": [
    "weather.iloc[[0,2,4],[0,1,2]]"
   ]
  },
  {
   "cell_type": "code",
   "execution_count": 50,
   "id": "21b6c1c8-e33b-4a43-a6c7-848a75538fc8",
   "metadata": {},
   "outputs": [
    {
     "data": {
      "text/plain": [
       "pandas.core.frame.DataFrame"
      ]
     },
     "execution_count": 50,
     "metadata": {},
     "output_type": "execute_result"
    }
   ],
   "source": [
    "type(weather.iloc[[0,2,4],[0,1,2]])"
   ]
  },
  {
   "cell_type": "code",
   "execution_count": 51,
   "id": "4387ca35-bb87-447b-ba65-d2b18998bdeb",
   "metadata": {},
   "outputs": [
    {
     "data": {
      "text/html": [
       "<div>\n",
       "<style scoped>\n",
       "    .dataframe tbody tr th:only-of-type {\n",
       "        vertical-align: middle;\n",
       "    }\n",
       "\n",
       "    .dataframe tbody tr th {\n",
       "        vertical-align: top;\n",
       "    }\n",
       "\n",
       "    .dataframe thead th {\n",
       "        text-align: right;\n",
       "    }\n",
       "</style>\n",
       "<table border=\"1\" class=\"dataframe\">\n",
       "  <thead>\n",
       "    <tr style=\"text-align: right;\">\n",
       "      <th></th>\n",
       "      <th>城市</th>\n",
       "      <th>行政区</th>\n",
       "      <th>观测站</th>\n",
       "      <th>气温(度)</th>\n",
       "      <th>相对湿度(%)</th>\n",
       "      <th>累积雨量(mm)</th>\n",
       "    </tr>\n",
       "  </thead>\n",
       "  <tbody>\n",
       "    <tr>\n",
       "      <th>0</th>\n",
       "      <td>新北市</td>\n",
       "      <td>烏來區</td>\n",
       "      <td>福山</td>\n",
       "      <td>13.7</td>\n",
       "      <td>92.0</td>\n",
       "      <td>0.0</td>\n",
       "    </tr>\n",
       "    <tr>\n",
       "      <th>2</th>\n",
       "      <td>臺東縣</td>\n",
       "      <td>東河鄉</td>\n",
       "      <td>七塊厝</td>\n",
       "      <td>19.6</td>\n",
       "      <td>86.0</td>\n",
       "      <td>0.0</td>\n",
       "    </tr>\n",
       "    <tr>\n",
       "      <th>4</th>\n",
       "      <td>南投縣</td>\n",
       "      <td>仁愛鄉</td>\n",
       "      <td>小奇萊</td>\n",
       "      <td>8.3</td>\n",
       "      <td>57.0</td>\n",
       "      <td>0.0</td>\n",
       "    </tr>\n",
       "  </tbody>\n",
       "</table>\n",
       "</div>"
      ],
      "text/plain": [
       "    城市  行政区  观测站  气温(度)  相对湿度(%)  累积雨量(mm)\n",
       "0  新北市  烏來區   福山   13.7     92.0       0.0\n",
       "2  臺東縣  東河鄉  七塊厝   19.6     86.0       0.0\n",
       "4  南投縣  仁愛鄉  小奇萊    8.3     57.0       0.0"
      ]
     },
     "execution_count": 51,
     "metadata": {},
     "output_type": "execute_result"
    }
   ],
   "source": [
    "weather.iloc[[0,2,4]]"
   ]
  },
  {
   "cell_type": "code",
   "execution_count": 52,
   "id": "58c03765-3a6f-4738-ac2d-7bdb058f9cc1",
   "metadata": {},
   "outputs": [
    {
     "data": {
      "text/plain": [
       "pandas.core.frame.DataFrame"
      ]
     },
     "execution_count": 52,
     "metadata": {},
     "output_type": "execute_result"
    }
   ],
   "source": [
    "type(weather.iloc[[0,2,4]])"
   ]
  },
  {
   "cell_type": "code",
   "execution_count": 53,
   "id": "ebf40200-bf09-4cf7-8823-01a5c496f0f0",
   "metadata": {},
   "outputs": [
    {
     "data": {
      "text/html": [
       "<div>\n",
       "<style scoped>\n",
       "    .dataframe tbody tr th:only-of-type {\n",
       "        vertical-align: middle;\n",
       "    }\n",
       "\n",
       "    .dataframe tbody tr th {\n",
       "        vertical-align: top;\n",
       "    }\n",
       "\n",
       "    .dataframe thead th {\n",
       "        text-align: right;\n",
       "    }\n",
       "</style>\n",
       "<table border=\"1\" class=\"dataframe\">\n",
       "  <thead>\n",
       "    <tr style=\"text-align: right;\">\n",
       "      <th></th>\n",
       "      <th>城市</th>\n",
       "      <th>行政区</th>\n",
       "      <th>观测站</th>\n",
       "    </tr>\n",
       "  </thead>\n",
       "  <tbody>\n",
       "    <tr>\n",
       "      <th>0</th>\n",
       "      <td>新北市</td>\n",
       "      <td>烏來區</td>\n",
       "      <td>福山</td>\n",
       "    </tr>\n",
       "    <tr>\n",
       "      <th>1</th>\n",
       "      <td>臺南市</td>\n",
       "      <td>安平區</td>\n",
       "      <td>安平</td>\n",
       "    </tr>\n",
       "    <tr>\n",
       "      <th>2</th>\n",
       "      <td>臺東縣</td>\n",
       "      <td>東河鄉</td>\n",
       "      <td>七塊厝</td>\n",
       "    </tr>\n",
       "    <tr>\n",
       "      <th>3</th>\n",
       "      <td>新北市</td>\n",
       "      <td>貢寮區</td>\n",
       "      <td>福隆</td>\n",
       "    </tr>\n",
       "    <tr>\n",
       "      <th>4</th>\n",
       "      <td>南投縣</td>\n",
       "      <td>仁愛鄉</td>\n",
       "      <td>小奇萊</td>\n",
       "    </tr>\n",
       "    <tr>\n",
       "      <th>...</th>\n",
       "      <td>...</td>\n",
       "      <td>...</td>\n",
       "      <td>...</td>\n",
       "    </tr>\n",
       "    <tr>\n",
       "      <th>479</th>\n",
       "      <td>新北市</td>\n",
       "      <td>板橋區</td>\n",
       "      <td>板橋</td>\n",
       "    </tr>\n",
       "    <tr>\n",
       "      <th>480</th>\n",
       "      <td>宜蘭縣</td>\n",
       "      <td>大同鄉</td>\n",
       "      <td>翠峰湖</td>\n",
       "    </tr>\n",
       "    <tr>\n",
       "      <th>481</th>\n",
       "      <td>花蓮縣</td>\n",
       "      <td>壽豐鄉</td>\n",
       "      <td>大坑</td>\n",
       "    </tr>\n",
       "    <tr>\n",
       "      <th>482</th>\n",
       "      <td>新竹縣</td>\n",
       "      <td>五峰鄉</td>\n",
       "      <td>雪霸</td>\n",
       "    </tr>\n",
       "    <tr>\n",
       "      <th>483</th>\n",
       "      <td>桃園市</td>\n",
       "      <td>大溪區</td>\n",
       "      <td>大溪</td>\n",
       "    </tr>\n",
       "  </tbody>\n",
       "</table>\n",
       "<p>484 rows × 3 columns</p>\n",
       "</div>"
      ],
      "text/plain": [
       "      城市  行政区  观测站\n",
       "0    新北市  烏來區   福山\n",
       "1    臺南市  安平區   安平\n",
       "2    臺東縣  東河鄉  七塊厝\n",
       "3    新北市  貢寮區   福隆\n",
       "4    南投縣  仁愛鄉  小奇萊\n",
       "..   ...  ...  ...\n",
       "479  新北市  板橋區   板橋\n",
       "480  宜蘭縣  大同鄉  翠峰湖\n",
       "481  花蓮縣  壽豐鄉   大坑\n",
       "482  新竹縣  五峰鄉   雪霸\n",
       "483  桃園市  大溪區   大溪\n",
       "\n",
       "[484 rows x 3 columns]"
      ]
     },
     "execution_count": 53,
     "metadata": {},
     "output_type": "execute_result"
    }
   ],
   "source": [
    "weather.iloc[:,[0,1,2]]"
   ]
  },
  {
   "cell_type": "code",
   "execution_count": 54,
   "id": "8ca6da9b-4b0f-40ff-b4c7-ad341530d865",
   "metadata": {},
   "outputs": [
    {
     "data": {
      "text/plain": [
       "pandas.core.frame.DataFrame"
      ]
     },
     "execution_count": 54,
     "metadata": {},
     "output_type": "execute_result"
    }
   ],
   "source": [
    "type(weather.iloc[:,[0,1,2]])"
   ]
  },
  {
   "cell_type": "code",
   "execution_count": 55,
   "id": "31177e1f-88bb-447f-9b0c-2a982ca31452",
   "metadata": {},
   "outputs": [
    {
     "data": {
      "text/plain": [
       "城市           臺南市\n",
       "行政区          安平區\n",
       "观测站           安平\n",
       "气温(度)       23.5\n",
       "相对湿度(%)       70\n",
       "累积雨量(mm)       0\n",
       "Name: 1, dtype: object"
      ]
     },
     "execution_count": 55,
     "metadata": {},
     "output_type": "execute_result"
    }
   ],
   "source": [
    "weather.iloc[1]"
   ]
  },
  {
   "cell_type": "code",
   "execution_count": 56,
   "id": "a8173540-254b-4829-a158-7ace9023615b",
   "metadata": {},
   "outputs": [
    {
     "data": {
      "text/plain": [
       "pandas.core.series.Series"
      ]
     },
     "execution_count": 56,
     "metadata": {},
     "output_type": "execute_result"
    }
   ],
   "source": [
    "type(weather.iloc[1])"
   ]
  },
  {
   "cell_type": "code",
   "execution_count": 57,
   "id": "cf148e2a-a96e-4b9f-a253-55084bbe6ed5",
   "metadata": {},
   "outputs": [
    {
     "data": {
      "text/html": [
       "<div>\n",
       "<style scoped>\n",
       "    .dataframe tbody tr th:only-of-type {\n",
       "        vertical-align: middle;\n",
       "    }\n",
       "\n",
       "    .dataframe tbody tr th {\n",
       "        vertical-align: top;\n",
       "    }\n",
       "\n",
       "    .dataframe thead th {\n",
       "        text-align: right;\n",
       "    }\n",
       "</style>\n",
       "<table border=\"1\" class=\"dataframe\">\n",
       "  <thead>\n",
       "    <tr style=\"text-align: right;\">\n",
       "      <th></th>\n",
       "      <th>城市</th>\n",
       "      <th>行政区</th>\n",
       "      <th>观测站</th>\n",
       "      <th>气温(度)</th>\n",
       "      <th>相对湿度(%)</th>\n",
       "      <th>累积雨量(mm)</th>\n",
       "    </tr>\n",
       "  </thead>\n",
       "  <tbody>\n",
       "    <tr>\n",
       "      <th>1</th>\n",
       "      <td>臺南市</td>\n",
       "      <td>安平區</td>\n",
       "      <td>安平</td>\n",
       "      <td>23.5</td>\n",
       "      <td>70.0</td>\n",
       "      <td>0.0</td>\n",
       "    </tr>\n",
       "  </tbody>\n",
       "</table>\n",
       "</div>"
      ],
      "text/plain": [
       "    城市  行政区 观测站  气温(度)  相对湿度(%)  累积雨量(mm)\n",
       "1  臺南市  安平區  安平   23.5     70.0       0.0"
      ]
     },
     "execution_count": 57,
     "metadata": {},
     "output_type": "execute_result"
    }
   ],
   "source": [
    "weather.iloc[[1]]"
   ]
  },
  {
   "cell_type": "code",
   "execution_count": 58,
   "id": "c096104e-0a92-489c-878a-ca348df18b37",
   "metadata": {},
   "outputs": [
    {
     "data": {
      "text/plain": [
       "pandas.core.frame.DataFrame"
      ]
     },
     "execution_count": 58,
     "metadata": {},
     "output_type": "execute_result"
    }
   ],
   "source": [
    "type(weather.iloc[[1]])"
   ]
  },
  {
   "cell_type": "code",
   "execution_count": 59,
   "id": "b30d62cd-cd1b-40b1-8a69-e9ba9d93767c",
   "metadata": {},
   "outputs": [
    {
     "data": {
      "text/html": [
       "<div>\n",
       "<style scoped>\n",
       "    .dataframe tbody tr th:only-of-type {\n",
       "        vertical-align: middle;\n",
       "    }\n",
       "\n",
       "    .dataframe tbody tr th {\n",
       "        vertical-align: top;\n",
       "    }\n",
       "\n",
       "    .dataframe thead th {\n",
       "        text-align: right;\n",
       "    }\n",
       "</style>\n",
       "<table border=\"1\" class=\"dataframe\">\n",
       "  <thead>\n",
       "    <tr style=\"text-align: right;\">\n",
       "      <th></th>\n",
       "      <th>观测站</th>\n",
       "    </tr>\n",
       "  </thead>\n",
       "  <tbody>\n",
       "    <tr>\n",
       "      <th>1</th>\n",
       "      <td>安平</td>\n",
       "    </tr>\n",
       "  </tbody>\n",
       "</table>\n",
       "</div>"
      ],
      "text/plain": [
       "  观测站\n",
       "1  安平"
      ]
     },
     "execution_count": 59,
     "metadata": {},
     "output_type": "execute_result"
    }
   ],
   "source": [
    "weather.iloc[[1], [2]]"
   ]
  },
  {
   "cell_type": "code",
   "execution_count": 60,
   "id": "d39544c9-2192-4190-afdd-ca618cb3136d",
   "metadata": {},
   "outputs": [
    {
     "data": {
      "text/plain": [
       "pandas.core.frame.DataFrame"
      ]
     },
     "execution_count": 60,
     "metadata": {},
     "output_type": "execute_result"
    }
   ],
   "source": [
    "type(weather.iloc[[1],[2]])"
   ]
  },
  {
   "cell_type": "code",
   "execution_count": 61,
   "id": "c74472e5-99ff-4584-8294-adaa8b0022cd",
   "metadata": {},
   "outputs": [
    {
     "data": {
      "text/plain": [
       "观测站    安平\n",
       "Name: 1, dtype: object"
      ]
     },
     "execution_count": 61,
     "metadata": {},
     "output_type": "execute_result"
    }
   ],
   "source": [
    "weather.iloc[1, [2]]"
   ]
  },
  {
   "cell_type": "code",
   "execution_count": 62,
   "id": "ea0669c6-69ae-4853-a146-b7ba2e816f02",
   "metadata": {},
   "outputs": [
    {
     "data": {
      "text/plain": [
       "pandas.core.series.Series"
      ]
     },
     "execution_count": 62,
     "metadata": {},
     "output_type": "execute_result"
    }
   ],
   "source": [
    "type(weather.iloc[1, [2]])"
   ]
  },
  {
   "cell_type": "code",
   "execution_count": 63,
   "id": "be7dfb38-e6af-441e-8378-684f4b22de00",
   "metadata": {},
   "outputs": [
    {
     "data": {
      "text/plain": [
       "1    安平\n",
       "Name: 观测站, dtype: object"
      ]
     },
     "execution_count": 63,
     "metadata": {},
     "output_type": "execute_result"
    }
   ],
   "source": [
    "weather.iloc[[1], 2]"
   ]
  },
  {
   "cell_type": "code",
   "execution_count": 65,
   "id": "a239906b-4f5b-49d7-8400-c57876d01163",
   "metadata": {},
   "outputs": [
    {
     "data": {
      "text/plain": [
       "pandas.core.series.Series"
      ]
     },
     "execution_count": 65,
     "metadata": {},
     "output_type": "execute_result"
    }
   ],
   "source": [
    "type(weather.iloc[[1],2])"
   ]
  },
  {
   "cell_type": "code",
   "execution_count": 66,
   "id": "8cfeb185-585d-4446-88f4-1070a7932d05",
   "metadata": {},
   "outputs": [
    {
     "data": {
      "text/plain": [
       "'安平'"
      ]
     },
     "execution_count": 66,
     "metadata": {},
     "output_type": "execute_result"
    }
   ],
   "source": [
    "weather.iloc[1, 2]"
   ]
  },
  {
   "cell_type": "code",
   "execution_count": 67,
   "id": "01db7fce-5c9d-4be4-94a4-a1cdf07b5d65",
   "metadata": {},
   "outputs": [
    {
     "data": {
      "text/plain": [
       "str"
      ]
     },
     "execution_count": 67,
     "metadata": {},
     "output_type": "execute_result"
    }
   ],
   "source": [
    "type(weather.iloc[1, 2])"
   ]
  },
  {
   "cell_type": "code",
   "execution_count": 75,
   "id": "fd4a4dca-4d38-447d-8c9f-4405b2942da4",
   "metadata": {},
   "outputs": [
    {
     "data": {
      "text/html": [
       "<div>\n",
       "<style scoped>\n",
       "    .dataframe tbody tr th:only-of-type {\n",
       "        vertical-align: middle;\n",
       "    }\n",
       "\n",
       "    .dataframe tbody tr th {\n",
       "        vertical-align: top;\n",
       "    }\n",
       "\n",
       "    .dataframe thead th {\n",
       "        text-align: right;\n",
       "    }\n",
       "</style>\n",
       "<table border=\"1\" class=\"dataframe\">\n",
       "  <thead>\n",
       "    <tr style=\"text-align: right;\">\n",
       "      <th></th>\n",
       "      <th>城市</th>\n",
       "      <th>行政区</th>\n",
       "      <th>观测站</th>\n",
       "    </tr>\n",
       "  </thead>\n",
       "  <tbody>\n",
       "    <tr>\n",
       "      <th>0</th>\n",
       "      <td>新北市</td>\n",
       "      <td>烏來區</td>\n",
       "      <td>福山</td>\n",
       "    </tr>\n",
       "    <tr>\n",
       "      <th>1</th>\n",
       "      <td>臺南市</td>\n",
       "      <td>安平區</td>\n",
       "      <td>安平</td>\n",
       "    </tr>\n",
       "    <tr>\n",
       "      <th>2</th>\n",
       "      <td>臺東縣</td>\n",
       "      <td>東河鄉</td>\n",
       "      <td>七塊厝</td>\n",
       "    </tr>\n",
       "  </tbody>\n",
       "</table>\n",
       "</div>"
      ],
      "text/plain": [
       "    城市  行政区  观测站\n",
       "0  新北市  烏來區   福山\n",
       "1  臺南市  安平區   安平\n",
       "2  臺東縣  東河鄉  七塊厝"
      ]
     },
     "execution_count": 75,
     "metadata": {},
     "output_type": "execute_result"
    }
   ],
   "source": [
    "weather.loc[0:2, '城市':'观测站']"
   ]
  },
  {
   "cell_type": "code",
   "execution_count": 71,
   "id": "288e2890-9721-478f-b7e8-56bd6b397e04",
   "metadata": {},
   "outputs": [
    {
     "data": {
      "text/plain": [
       "Index(['城市', '行政区', '观测站', '气温(度)', '相对湿度(%)', '累积雨量(mm)'], dtype='object')"
      ]
     },
     "execution_count": 71,
     "metadata": {},
     "output_type": "execute_result"
    }
   ],
   "source": [
    "weather.columns"
   ]
  },
  {
   "cell_type": "code",
   "execution_count": 74,
   "id": "cf99f114-c4e8-4add-8108-a8e55797646e",
   "metadata": {},
   "outputs": [
    {
     "data": {
      "text/plain": [
       "RangeIndex(start=0, stop=484, step=1)"
      ]
     },
     "execution_count": 74,
     "metadata": {},
     "output_type": "execute_result"
    }
   ],
   "source": [
    "weather.index"
   ]
  },
  {
   "cell_type": "markdown",
   "id": "1b710296-eb78-4d3c-ba8d-ad9649285c8c",
   "metadata": {},
   "source": [
    "# loc和iloc的切片操作"
   ]
  },
  {
   "cell_type": "code",
   "execution_count": 77,
   "id": "e8847382-4f69-4aef-9ac4-73abf72398b1",
   "metadata": {},
   "outputs": [
    {
     "data": {
      "text/html": [
       "<div>\n",
       "<style scoped>\n",
       "    .dataframe tbody tr th:only-of-type {\n",
       "        vertical-align: middle;\n",
       "    }\n",
       "\n",
       "    .dataframe tbody tr th {\n",
       "        vertical-align: top;\n",
       "    }\n",
       "\n",
       "    .dataframe thead th {\n",
       "        text-align: right;\n",
       "    }\n",
       "</style>\n",
       "<table border=\"1\" class=\"dataframe\">\n",
       "  <thead>\n",
       "    <tr style=\"text-align: right;\">\n",
       "      <th></th>\n",
       "      <th>城市</th>\n",
       "      <th>行政区</th>\n",
       "      <th>观测站</th>\n",
       "    </tr>\n",
       "  </thead>\n",
       "  <tbody>\n",
       "    <tr>\n",
       "      <th>0</th>\n",
       "      <td>新北市</td>\n",
       "      <td>烏來區</td>\n",
       "      <td>福山</td>\n",
       "    </tr>\n",
       "    <tr>\n",
       "      <th>1</th>\n",
       "      <td>臺南市</td>\n",
       "      <td>安平區</td>\n",
       "      <td>安平</td>\n",
       "    </tr>\n",
       "    <tr>\n",
       "      <th>2</th>\n",
       "      <td>臺東縣</td>\n",
       "      <td>東河鄉</td>\n",
       "      <td>七塊厝</td>\n",
       "    </tr>\n",
       "  </tbody>\n",
       "</table>\n",
       "</div>"
      ],
      "text/plain": [
       "    城市  行政区  观测站\n",
       "0  新北市  烏來區   福山\n",
       "1  臺南市  安平區   安平\n",
       "2  臺東縣  東河鄉  七塊厝"
      ]
     },
     "execution_count": 77,
     "metadata": {},
     "output_type": "execute_result"
    }
   ],
   "source": [
    "weather.iloc[0:3, 0:3]"
   ]
  },
  {
   "cell_type": "code",
   "execution_count": 79,
   "id": "a3f223cc-f657-43f2-8997-561853c7a4b3",
   "metadata": {},
   "outputs": [
    {
     "data": {
      "text/html": [
       "<div>\n",
       "<style scoped>\n",
       "    .dataframe tbody tr th:only-of-type {\n",
       "        vertical-align: middle;\n",
       "    }\n",
       "\n",
       "    .dataframe tbody tr th {\n",
       "        vertical-align: top;\n",
       "    }\n",
       "\n",
       "    .dataframe thead th {\n",
       "        text-align: right;\n",
       "    }\n",
       "</style>\n",
       "<table border=\"1\" class=\"dataframe\">\n",
       "  <thead>\n",
       "    <tr style=\"text-align: right;\">\n",
       "      <th></th>\n",
       "      <th>城市</th>\n",
       "      <th>行政区</th>\n",
       "      <th>观测站</th>\n",
       "    </tr>\n",
       "  </thead>\n",
       "  <tbody>\n",
       "    <tr>\n",
       "      <th>0</th>\n",
       "      <td>新北市</td>\n",
       "      <td>烏來區</td>\n",
       "      <td>福山</td>\n",
       "    </tr>\n",
       "    <tr>\n",
       "      <th>1</th>\n",
       "      <td>臺南市</td>\n",
       "      <td>安平區</td>\n",
       "      <td>安平</td>\n",
       "    </tr>\n",
       "    <tr>\n",
       "      <th>2</th>\n",
       "      <td>臺東縣</td>\n",
       "      <td>東河鄉</td>\n",
       "      <td>七塊厝</td>\n",
       "    </tr>\n",
       "  </tbody>\n",
       "</table>\n",
       "</div>"
      ],
      "text/plain": [
       "    城市  行政区  观测站\n",
       "0  新北市  烏來區   福山\n",
       "1  臺南市  安平區   安平\n",
       "2  臺東縣  東河鄉  七塊厝"
      ]
     },
     "execution_count": 79,
     "metadata": {},
     "output_type": "execute_result"
    }
   ],
   "source": [
    "weather.loc[0:2, '城市':'观测站']"
   ]
  },
  {
   "cell_type": "code",
   "execution_count": 80,
   "id": "d888fc0b-5cd0-422a-87dd-a698c29f0609",
   "metadata": {},
   "outputs": [
    {
     "data": {
      "text/html": [
       "<div>\n",
       "<style scoped>\n",
       "    .dataframe tbody tr th:only-of-type {\n",
       "        vertical-align: middle;\n",
       "    }\n",
       "\n",
       "    .dataframe tbody tr th {\n",
       "        vertical-align: top;\n",
       "    }\n",
       "\n",
       "    .dataframe thead th {\n",
       "        text-align: right;\n",
       "    }\n",
       "</style>\n",
       "<table border=\"1\" class=\"dataframe\">\n",
       "  <thead>\n",
       "    <tr style=\"text-align: right;\">\n",
       "      <th></th>\n",
       "      <th>城市</th>\n",
       "      <th>行政区</th>\n",
       "      <th>观测站</th>\n",
       "    </tr>\n",
       "  </thead>\n",
       "  <tbody>\n",
       "    <tr>\n",
       "      <th>0</th>\n",
       "      <td>新北市</td>\n",
       "      <td>烏來區</td>\n",
       "      <td>福山</td>\n",
       "    </tr>\n",
       "    <tr>\n",
       "      <th>1</th>\n",
       "      <td>臺南市</td>\n",
       "      <td>安平區</td>\n",
       "      <td>安平</td>\n",
       "    </tr>\n",
       "    <tr>\n",
       "      <th>2</th>\n",
       "      <td>臺東縣</td>\n",
       "      <td>東河鄉</td>\n",
       "      <td>七塊厝</td>\n",
       "    </tr>\n",
       "    <tr>\n",
       "      <th>3</th>\n",
       "      <td>新北市</td>\n",
       "      <td>貢寮區</td>\n",
       "      <td>福隆</td>\n",
       "    </tr>\n",
       "    <tr>\n",
       "      <th>4</th>\n",
       "      <td>南投縣</td>\n",
       "      <td>仁愛鄉</td>\n",
       "      <td>小奇萊</td>\n",
       "    </tr>\n",
       "    <tr>\n",
       "      <th>...</th>\n",
       "      <td>...</td>\n",
       "      <td>...</td>\n",
       "      <td>...</td>\n",
       "    </tr>\n",
       "    <tr>\n",
       "      <th>479</th>\n",
       "      <td>新北市</td>\n",
       "      <td>板橋區</td>\n",
       "      <td>板橋</td>\n",
       "    </tr>\n",
       "    <tr>\n",
       "      <th>480</th>\n",
       "      <td>宜蘭縣</td>\n",
       "      <td>大同鄉</td>\n",
       "      <td>翠峰湖</td>\n",
       "    </tr>\n",
       "    <tr>\n",
       "      <th>481</th>\n",
       "      <td>花蓮縣</td>\n",
       "      <td>壽豐鄉</td>\n",
       "      <td>大坑</td>\n",
       "    </tr>\n",
       "    <tr>\n",
       "      <th>482</th>\n",
       "      <td>新竹縣</td>\n",
       "      <td>五峰鄉</td>\n",
       "      <td>雪霸</td>\n",
       "    </tr>\n",
       "    <tr>\n",
       "      <th>483</th>\n",
       "      <td>桃園市</td>\n",
       "      <td>大溪區</td>\n",
       "      <td>大溪</td>\n",
       "    </tr>\n",
       "  </tbody>\n",
       "</table>\n",
       "<p>484 rows × 3 columns</p>\n",
       "</div>"
      ],
      "text/plain": [
       "      城市  行政区  观测站\n",
       "0    新北市  烏來區   福山\n",
       "1    臺南市  安平區   安平\n",
       "2    臺東縣  東河鄉  七塊厝\n",
       "3    新北市  貢寮區   福隆\n",
       "4    南投縣  仁愛鄉  小奇萊\n",
       "..   ...  ...  ...\n",
       "479  新北市  板橋區   板橋\n",
       "480  宜蘭縣  大同鄉  翠峰湖\n",
       "481  花蓮縣  壽豐鄉   大坑\n",
       "482  新竹縣  五峰鄉   雪霸\n",
       "483  桃園市  大溪區   大溪\n",
       "\n",
       "[484 rows x 3 columns]"
      ]
     },
     "execution_count": 80,
     "metadata": {},
     "output_type": "execute_result"
    }
   ],
   "source": [
    "weather[['城市', '行政区', '观测站']]"
   ]
  },
  {
   "cell_type": "code",
   "execution_count": 81,
   "id": "af1ed503-8aeb-4921-9c72-55d49da766c9",
   "metadata": {},
   "outputs": [
    {
     "data": {
      "text/html": [
       "<div>\n",
       "<style scoped>\n",
       "    .dataframe tbody tr th:only-of-type {\n",
       "        vertical-align: middle;\n",
       "    }\n",
       "\n",
       "    .dataframe tbody tr th {\n",
       "        vertical-align: top;\n",
       "    }\n",
       "\n",
       "    .dataframe thead th {\n",
       "        text-align: right;\n",
       "    }\n",
       "</style>\n",
       "<table border=\"1\" class=\"dataframe\">\n",
       "  <thead>\n",
       "    <tr style=\"text-align: right;\">\n",
       "      <th></th>\n",
       "      <th>城市</th>\n",
       "    </tr>\n",
       "  </thead>\n",
       "  <tbody>\n",
       "    <tr>\n",
       "      <th>0</th>\n",
       "      <td>新北市</td>\n",
       "    </tr>\n",
       "    <tr>\n",
       "      <th>1</th>\n",
       "      <td>臺南市</td>\n",
       "    </tr>\n",
       "    <tr>\n",
       "      <th>2</th>\n",
       "      <td>臺東縣</td>\n",
       "    </tr>\n",
       "    <tr>\n",
       "      <th>3</th>\n",
       "      <td>新北市</td>\n",
       "    </tr>\n",
       "    <tr>\n",
       "      <th>4</th>\n",
       "      <td>南投縣</td>\n",
       "    </tr>\n",
       "    <tr>\n",
       "      <th>...</th>\n",
       "      <td>...</td>\n",
       "    </tr>\n",
       "    <tr>\n",
       "      <th>479</th>\n",
       "      <td>新北市</td>\n",
       "    </tr>\n",
       "    <tr>\n",
       "      <th>480</th>\n",
       "      <td>宜蘭縣</td>\n",
       "    </tr>\n",
       "    <tr>\n",
       "      <th>481</th>\n",
       "      <td>花蓮縣</td>\n",
       "    </tr>\n",
       "    <tr>\n",
       "      <th>482</th>\n",
       "      <td>新竹縣</td>\n",
       "    </tr>\n",
       "    <tr>\n",
       "      <th>483</th>\n",
       "      <td>桃園市</td>\n",
       "    </tr>\n",
       "  </tbody>\n",
       "</table>\n",
       "<p>484 rows × 1 columns</p>\n",
       "</div>"
      ],
      "text/plain": [
       "      城市\n",
       "0    新北市\n",
       "1    臺南市\n",
       "2    臺東縣\n",
       "3    新北市\n",
       "4    南投縣\n",
       "..   ...\n",
       "479  新北市\n",
       "480  宜蘭縣\n",
       "481  花蓮縣\n",
       "482  新竹縣\n",
       "483  桃園市\n",
       "\n",
       "[484 rows x 1 columns]"
      ]
     },
     "execution_count": 81,
     "metadata": {},
     "output_type": "execute_result"
    }
   ],
   "source": [
    "weather[['城市']]"
   ]
  },
  {
   "cell_type": "code",
   "execution_count": 82,
   "id": "4347da79-4d83-46fb-bb03-b1840fcec834",
   "metadata": {},
   "outputs": [
    {
     "data": {
      "text/plain": [
       "pandas.core.frame.DataFrame"
      ]
     },
     "execution_count": 82,
     "metadata": {},
     "output_type": "execute_result"
    }
   ],
   "source": [
    "type(weather[['城市']])"
   ]
  },
  {
   "cell_type": "code",
   "execution_count": 83,
   "id": "3b95fa5f-e974-4fa4-a698-ff453fa62a98",
   "metadata": {},
   "outputs": [
    {
     "data": {
      "text/plain": [
       "0      新北市\n",
       "1      臺南市\n",
       "2      臺東縣\n",
       "3      新北市\n",
       "4      南投縣\n",
       "      ... \n",
       "479    新北市\n",
       "480    宜蘭縣\n",
       "481    花蓮縣\n",
       "482    新竹縣\n",
       "483    桃園市\n",
       "Name: 城市, Length: 484, dtype: object"
      ]
     },
     "execution_count": 83,
     "metadata": {},
     "output_type": "execute_result"
    }
   ],
   "source": [
    "weather['城市']"
   ]
  },
  {
   "cell_type": "code",
   "execution_count": 84,
   "id": "fb21dcc7-0e98-4dab-a26b-199744dcbf2a",
   "metadata": {},
   "outputs": [
    {
     "data": {
      "text/plain": [
       "pandas.core.series.Series"
      ]
     },
     "execution_count": 84,
     "metadata": {},
     "output_type": "execute_result"
    }
   ],
   "source": [
    "type(weather['城市'])"
   ]
  },
  {
   "cell_type": "code",
   "execution_count": 95,
   "id": "79070ea2-d4f0-4359-918a-c5735dbe62a6",
   "metadata": {},
   "outputs": [
    {
     "data": {
      "text/html": [
       "<div>\n",
       "<style scoped>\n",
       "    .dataframe tbody tr th:only-of-type {\n",
       "        vertical-align: middle;\n",
       "    }\n",
       "\n",
       "    .dataframe tbody tr th {\n",
       "        vertical-align: top;\n",
       "    }\n",
       "\n",
       "    .dataframe thead th {\n",
       "        text-align: right;\n",
       "    }\n",
       "</style>\n",
       "<table border=\"1\" class=\"dataframe\">\n",
       "  <thead>\n",
       "    <tr style=\"text-align: right;\">\n",
       "      <th></th>\n",
       "      <th>城市</th>\n",
       "      <th>行政区</th>\n",
       "      <th>观测站</th>\n",
       "      <th>气温(度)</th>\n",
       "      <th>相对湿度(%)</th>\n",
       "      <th>累积雨量(mm)</th>\n",
       "    </tr>\n",
       "  </thead>\n",
       "  <tbody>\n",
       "    <tr>\n",
       "      <th>0</th>\n",
       "      <td>新北市</td>\n",
       "      <td>烏來區</td>\n",
       "      <td>福山</td>\n",
       "      <td>13.7</td>\n",
       "      <td>92.0</td>\n",
       "      <td>0.0</td>\n",
       "    </tr>\n",
       "    <tr>\n",
       "      <th>1</th>\n",
       "      <td>臺南市</td>\n",
       "      <td>安平區</td>\n",
       "      <td>安平</td>\n",
       "      <td>23.5</td>\n",
       "      <td>70.0</td>\n",
       "      <td>0.0</td>\n",
       "    </tr>\n",
       "    <tr>\n",
       "      <th>2</th>\n",
       "      <td>臺東縣</td>\n",
       "      <td>東河鄉</td>\n",
       "      <td>七塊厝</td>\n",
       "      <td>19.6</td>\n",
       "      <td>86.0</td>\n",
       "      <td>0.0</td>\n",
       "    </tr>\n",
       "  </tbody>\n",
       "</table>\n",
       "</div>"
      ],
      "text/plain": [
       "    城市  行政区  观测站  气温(度)  相对湿度(%)  累积雨量(mm)\n",
       "0  新北市  烏來區   福山   13.7     92.0       0.0\n",
       "1  臺南市  安平區   安平   23.5     70.0       0.0\n",
       "2  臺東縣  東河鄉  七塊厝   19.6     86.0       0.0"
      ]
     },
     "execution_count": 95,
     "metadata": {},
     "output_type": "execute_result"
    }
   ],
   "source": [
    "weather[:3]"
   ]
  },
  {
   "cell_type": "code",
   "execution_count": 96,
   "id": "b2f8a8af-745d-4415-bf9b-54e5830f2ce9",
   "metadata": {},
   "outputs": [
    {
     "data": {
      "text/html": [
       "<div>\n",
       "<style scoped>\n",
       "    .dataframe tbody tr th:only-of-type {\n",
       "        vertical-align: middle;\n",
       "    }\n",
       "\n",
       "    .dataframe tbody tr th {\n",
       "        vertical-align: top;\n",
       "    }\n",
       "\n",
       "    .dataframe thead th {\n",
       "        text-align: right;\n",
       "    }\n",
       "</style>\n",
       "<table border=\"1\" class=\"dataframe\">\n",
       "  <thead>\n",
       "    <tr style=\"text-align: right;\">\n",
       "      <th></th>\n",
       "      <th>城市</th>\n",
       "      <th>行政区</th>\n",
       "      <th>观测站</th>\n",
       "      <th>气温(度)</th>\n",
       "      <th>相对湿度(%)</th>\n",
       "      <th>累积雨量(mm)</th>\n",
       "    </tr>\n",
       "  </thead>\n",
       "  <tbody>\n",
       "    <tr>\n",
       "      <th>0</th>\n",
       "      <td>新北市</td>\n",
       "      <td>烏來區</td>\n",
       "      <td>福山</td>\n",
       "      <td>13.7</td>\n",
       "      <td>92.0</td>\n",
       "      <td>0.0</td>\n",
       "    </tr>\n",
       "    <tr>\n",
       "      <th>2</th>\n",
       "      <td>臺東縣</td>\n",
       "      <td>東河鄉</td>\n",
       "      <td>七塊厝</td>\n",
       "      <td>19.6</td>\n",
       "      <td>86.0</td>\n",
       "      <td>0.0</td>\n",
       "    </tr>\n",
       "    <tr>\n",
       "      <th>4</th>\n",
       "      <td>南投縣</td>\n",
       "      <td>仁愛鄉</td>\n",
       "      <td>小奇萊</td>\n",
       "      <td>8.3</td>\n",
       "      <td>57.0</td>\n",
       "      <td>0.0</td>\n",
       "    </tr>\n",
       "  </tbody>\n",
       "</table>\n",
       "</div>"
      ],
      "text/plain": [
       "    城市  行政区  观测站  气温(度)  相对湿度(%)  累积雨量(mm)\n",
       "0  新北市  烏來區   福山   13.7     92.0       0.0\n",
       "2  臺東縣  東河鄉  七塊厝   19.6     86.0       0.0\n",
       "4  南投縣  仁愛鄉  小奇萊    8.3     57.0       0.0"
      ]
     },
     "execution_count": 96,
     "metadata": {},
     "output_type": "execute_result"
    }
   ],
   "source": [
    "weather[:5:2]"
   ]
  },
  {
   "cell_type": "code",
   "execution_count": null,
   "id": "02272ba4-a961-4a4a-b666-2f39685dd6a7",
   "metadata": {},
   "outputs": [],
   "source": []
  }
 ],
 "metadata": {
  "kernelspec": {
   "display_name": "Python 3 (ipykernel)",
   "language": "python",
   "name": "python3"
  },
  "language_info": {
   "codemirror_mode": {
    "name": "ipython",
    "version": 3
   },
   "file_extension": ".py",
   "mimetype": "text/x-python",
   "name": "python",
   "nbconvert_exporter": "python",
   "pygments_lexer": "ipython3",
   "version": "3.8.19"
  }
 },
 "nbformat": 4,
 "nbformat_minor": 5
}
